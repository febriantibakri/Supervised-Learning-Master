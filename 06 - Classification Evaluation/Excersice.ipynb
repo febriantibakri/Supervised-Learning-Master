{
 "cells": [
  {
   "cell_type": "code",
   "execution_count": 2,
   "id": "d23a967c",
   "metadata": {},
   "outputs": [],
   "source": [
    "import numpy as np\n",
    "import pandas as pd\n",
    "\n",
    "from sklearn.model_selection import train_test_split\n",
    "from sklearn.pipeline import Pipeline\n",
    "from sklearn.compose import ColumnTransformer\n",
    "\n",
    "from jcopml.pipeline import num_pipe, cat_pipe\n",
    "from jcopml.utils import save_model, load_model\n",
    "from jcopml.plot import plot_missing_value\n",
    "from jcopml.feature_importance import mean_score_decrease"
   ]
  },
  {
   "cell_type": "code",
   "execution_count": 3,
   "id": "5dab4962",
   "metadata": {},
   "outputs": [
    {
     "data": {
      "text/html": [
       "<div>\n",
       "<style scoped>\n",
       "    .dataframe tbody tr th:only-of-type {\n",
       "        vertical-align: middle;\n",
       "    }\n",
       "\n",
       "    .dataframe tbody tr th {\n",
       "        vertical-align: top;\n",
       "    }\n",
       "\n",
       "    .dataframe thead th {\n",
       "        text-align: right;\n",
       "    }\n",
       "</style>\n",
       "<table border=\"1\" class=\"dataframe\">\n",
       "  <thead>\n",
       "    <tr style=\"text-align: right;\">\n",
       "      <th></th>\n",
       "      <th>edible</th>\n",
       "      <th>cap_shape</th>\n",
       "      <th>cap_surface</th>\n",
       "      <th>cap_color</th>\n",
       "      <th>bruises</th>\n",
       "      <th>odor</th>\n",
       "      <th>gill_attachment</th>\n",
       "      <th>gill_spacing</th>\n",
       "      <th>gill_size</th>\n",
       "      <th>gill_color</th>\n",
       "      <th>...</th>\n",
       "      <th>stalk_surface_below_ring</th>\n",
       "      <th>stalk_color_above_ring</th>\n",
       "      <th>stalk_color_below_ring</th>\n",
       "      <th>veil_type</th>\n",
       "      <th>veil_color</th>\n",
       "      <th>ring_number</th>\n",
       "      <th>ring_type</th>\n",
       "      <th>spore_print_color</th>\n",
       "      <th>population</th>\n",
       "      <th>habitat</th>\n",
       "    </tr>\n",
       "  </thead>\n",
       "  <tbody>\n",
       "    <tr>\n",
       "      <th>0</th>\n",
       "      <td>False</td>\n",
       "      <td>convex</td>\n",
       "      <td>smooth</td>\n",
       "      <td>brown</td>\n",
       "      <td>True</td>\n",
       "      <td>pungent</td>\n",
       "      <td>free</td>\n",
       "      <td>close</td>\n",
       "      <td>narrow</td>\n",
       "      <td>black</td>\n",
       "      <td>...</td>\n",
       "      <td>smooth</td>\n",
       "      <td>white</td>\n",
       "      <td>white</td>\n",
       "      <td>partial</td>\n",
       "      <td>white</td>\n",
       "      <td>1</td>\n",
       "      <td>pendant</td>\n",
       "      <td>black</td>\n",
       "      <td>scattered</td>\n",
       "      <td>urban</td>\n",
       "    </tr>\n",
       "    <tr>\n",
       "      <th>1</th>\n",
       "      <td>True</td>\n",
       "      <td>convex</td>\n",
       "      <td>smooth</td>\n",
       "      <td>yellow</td>\n",
       "      <td>True</td>\n",
       "      <td>almond</td>\n",
       "      <td>free</td>\n",
       "      <td>close</td>\n",
       "      <td>broad</td>\n",
       "      <td>black</td>\n",
       "      <td>...</td>\n",
       "      <td>smooth</td>\n",
       "      <td>white</td>\n",
       "      <td>white</td>\n",
       "      <td>partial</td>\n",
       "      <td>white</td>\n",
       "      <td>1</td>\n",
       "      <td>pendant</td>\n",
       "      <td>brown</td>\n",
       "      <td>numerous</td>\n",
       "      <td>grasses</td>\n",
       "    </tr>\n",
       "    <tr>\n",
       "      <th>2</th>\n",
       "      <td>True</td>\n",
       "      <td>bell</td>\n",
       "      <td>smooth</td>\n",
       "      <td>white</td>\n",
       "      <td>True</td>\n",
       "      <td>anise</td>\n",
       "      <td>free</td>\n",
       "      <td>close</td>\n",
       "      <td>broad</td>\n",
       "      <td>brown</td>\n",
       "      <td>...</td>\n",
       "      <td>smooth</td>\n",
       "      <td>white</td>\n",
       "      <td>white</td>\n",
       "      <td>partial</td>\n",
       "      <td>white</td>\n",
       "      <td>1</td>\n",
       "      <td>pendant</td>\n",
       "      <td>brown</td>\n",
       "      <td>numerous</td>\n",
       "      <td>meadows</td>\n",
       "    </tr>\n",
       "    <tr>\n",
       "      <th>3</th>\n",
       "      <td>False</td>\n",
       "      <td>convex</td>\n",
       "      <td>scaly</td>\n",
       "      <td>white</td>\n",
       "      <td>True</td>\n",
       "      <td>pungent</td>\n",
       "      <td>free</td>\n",
       "      <td>close</td>\n",
       "      <td>narrow</td>\n",
       "      <td>brown</td>\n",
       "      <td>...</td>\n",
       "      <td>smooth</td>\n",
       "      <td>white</td>\n",
       "      <td>white</td>\n",
       "      <td>partial</td>\n",
       "      <td>white</td>\n",
       "      <td>1</td>\n",
       "      <td>pendant</td>\n",
       "      <td>black</td>\n",
       "      <td>scattered</td>\n",
       "      <td>urban</td>\n",
       "    </tr>\n",
       "    <tr>\n",
       "      <th>4</th>\n",
       "      <td>True</td>\n",
       "      <td>convex</td>\n",
       "      <td>smooth</td>\n",
       "      <td>gray</td>\n",
       "      <td>False</td>\n",
       "      <td>none</td>\n",
       "      <td>free</td>\n",
       "      <td>crowded</td>\n",
       "      <td>broad</td>\n",
       "      <td>black</td>\n",
       "      <td>...</td>\n",
       "      <td>smooth</td>\n",
       "      <td>white</td>\n",
       "      <td>white</td>\n",
       "      <td>partial</td>\n",
       "      <td>white</td>\n",
       "      <td>1</td>\n",
       "      <td>evanescent</td>\n",
       "      <td>brown</td>\n",
       "      <td>abundant</td>\n",
       "      <td>grasses</td>\n",
       "    </tr>\n",
       "  </tbody>\n",
       "</table>\n",
       "<p>5 rows × 23 columns</p>\n",
       "</div>"
      ],
      "text/plain": [
       "   edible cap_shape cap_surface cap_color  bruises     odor gill_attachment  \\\n",
       "0   False    convex      smooth     brown     True  pungent            free   \n",
       "1    True    convex      smooth    yellow     True   almond            free   \n",
       "2    True      bell      smooth     white     True    anise            free   \n",
       "3   False    convex       scaly     white     True  pungent            free   \n",
       "4    True    convex      smooth      gray    False     none            free   \n",
       "\n",
       "  gill_spacing gill_size gill_color  ... stalk_surface_below_ring  \\\n",
       "0        close    narrow      black  ...                   smooth   \n",
       "1        close     broad      black  ...                   smooth   \n",
       "2        close     broad      brown  ...                   smooth   \n",
       "3        close    narrow      brown  ...                   smooth   \n",
       "4      crowded     broad      black  ...                   smooth   \n",
       "\n",
       "  stalk_color_above_ring stalk_color_below_ring veil_type veil_color  \\\n",
       "0                  white                  white   partial      white   \n",
       "1                  white                  white   partial      white   \n",
       "2                  white                  white   partial      white   \n",
       "3                  white                  white   partial      white   \n",
       "4                  white                  white   partial      white   \n",
       "\n",
       "  ring_number   ring_type spore_print_color  population  habitat  \n",
       "0           1     pendant             black   scattered    urban  \n",
       "1           1     pendant             brown    numerous  grasses  \n",
       "2           1     pendant             brown    numerous  meadows  \n",
       "3           1     pendant             black   scattered    urban  \n",
       "4           1  evanescent             brown    abundant  grasses  \n",
       "\n",
       "[5 rows x 23 columns]"
      ]
     },
     "execution_count": 3,
     "metadata": {},
     "output_type": "execute_result"
    }
   ],
   "source": [
    "df = pd.read_csv(\"data/mushrooms.csv\")\n",
    "df.head()"
   ]
  },
  {
   "cell_type": "code",
   "execution_count": 4,
   "id": "fab5f5e1",
   "metadata": {},
   "outputs": [
    {
     "name": "stdout",
     "output_type": "stream",
     "text": [
      "<class 'pandas.core.frame.DataFrame'>\n",
      "RangeIndex: 8124 entries, 0 to 8123\n",
      "Data columns (total 23 columns):\n",
      " #   Column                    Non-Null Count  Dtype \n",
      "---  ------                    --------------  ----- \n",
      " 0   edible                    8124 non-null   bool  \n",
      " 1   cap_shape                 8124 non-null   object\n",
      " 2   cap_surface               8124 non-null   object\n",
      " 3   cap_color                 8124 non-null   object\n",
      " 4   bruises                   8124 non-null   bool  \n",
      " 5   odor                      8124 non-null   object\n",
      " 6   gill_attachment           8124 non-null   object\n",
      " 7   gill_spacing              8124 non-null   object\n",
      " 8   gill_size                 8124 non-null   object\n",
      " 9   gill_color                8124 non-null   object\n",
      " 10  stalk_shape               8124 non-null   object\n",
      " 11  stalk_root                5644 non-null   object\n",
      " 12  stalk_surface_above_ring  8124 non-null   object\n",
      " 13  stalk_surface_below_ring  8124 non-null   object\n",
      " 14  stalk_color_above_ring    7932 non-null   object\n",
      " 15  stalk_color_below_ring    7932 non-null   object\n",
      " 16  veil_type                 8124 non-null   object\n",
      " 17  veil_color                8124 non-null   object\n",
      " 18  ring_number               8124 non-null   int64 \n",
      " 19  ring_type                 8124 non-null   object\n",
      " 20  spore_print_color         8124 non-null   object\n",
      " 21  population                8124 non-null   object\n",
      " 22  habitat                   8124 non-null   object\n",
      "dtypes: bool(2), int64(1), object(20)\n",
      "memory usage: 1.3+ MB\n"
     ]
    }
   ],
   "source": [
    "df.info()"
   ]
  },
  {
   "cell_type": "code",
   "execution_count": 3,
   "id": "0680e9d3",
   "metadata": {},
   "outputs": [
    {
     "data": {
      "text/html": [
       "<div>\n",
       "<style scoped>\n",
       "    .dataframe tbody tr th:only-of-type {\n",
       "        vertical-align: middle;\n",
       "    }\n",
       "\n",
       "    .dataframe tbody tr th {\n",
       "        vertical-align: top;\n",
       "    }\n",
       "\n",
       "    .dataframe thead th {\n",
       "        text-align: right;\n",
       "    }\n",
       "</style>\n",
       "<table border=\"1\" class=\"dataframe\">\n",
       "  <thead>\n",
       "    <tr style=\"text-align: right;\">\n",
       "      <th></th>\n",
       "      <th>missing_value</th>\n",
       "      <th>%</th>\n",
       "    </tr>\n",
       "  </thead>\n",
       "  <tbody>\n",
       "    <tr>\n",
       "      <th>edible</th>\n",
       "      <td>0</td>\n",
       "      <td>0.00</td>\n",
       "    </tr>\n",
       "    <tr>\n",
       "      <th>cap_shape</th>\n",
       "      <td>0</td>\n",
       "      <td>0.00</td>\n",
       "    </tr>\n",
       "    <tr>\n",
       "      <th>cap_surface</th>\n",
       "      <td>0</td>\n",
       "      <td>0.00</td>\n",
       "    </tr>\n",
       "    <tr>\n",
       "      <th>cap_color</th>\n",
       "      <td>0</td>\n",
       "      <td>0.00</td>\n",
       "    </tr>\n",
       "    <tr>\n",
       "      <th>bruises</th>\n",
       "      <td>0</td>\n",
       "      <td>0.00</td>\n",
       "    </tr>\n",
       "    <tr>\n",
       "      <th>odor</th>\n",
       "      <td>0</td>\n",
       "      <td>0.00</td>\n",
       "    </tr>\n",
       "    <tr>\n",
       "      <th>gill_attachment</th>\n",
       "      <td>0</td>\n",
       "      <td>0.00</td>\n",
       "    </tr>\n",
       "    <tr>\n",
       "      <th>gill_spacing</th>\n",
       "      <td>0</td>\n",
       "      <td>0.00</td>\n",
       "    </tr>\n",
       "    <tr>\n",
       "      <th>gill_size</th>\n",
       "      <td>0</td>\n",
       "      <td>0.00</td>\n",
       "    </tr>\n",
       "    <tr>\n",
       "      <th>gill_color</th>\n",
       "      <td>0</td>\n",
       "      <td>0.00</td>\n",
       "    </tr>\n",
       "    <tr>\n",
       "      <th>stalk_shape</th>\n",
       "      <td>0</td>\n",
       "      <td>0.00</td>\n",
       "    </tr>\n",
       "    <tr>\n",
       "      <th>stalk_root</th>\n",
       "      <td>2480</td>\n",
       "      <td>30.53</td>\n",
       "    </tr>\n",
       "    <tr>\n",
       "      <th>stalk_surface_above_ring</th>\n",
       "      <td>0</td>\n",
       "      <td>0.00</td>\n",
       "    </tr>\n",
       "    <tr>\n",
       "      <th>stalk_surface_below_ring</th>\n",
       "      <td>0</td>\n",
       "      <td>0.00</td>\n",
       "    </tr>\n",
       "    <tr>\n",
       "      <th>stalk_color_above_ring</th>\n",
       "      <td>192</td>\n",
       "      <td>2.36</td>\n",
       "    </tr>\n",
       "    <tr>\n",
       "      <th>stalk_color_below_ring</th>\n",
       "      <td>192</td>\n",
       "      <td>2.36</td>\n",
       "    </tr>\n",
       "    <tr>\n",
       "      <th>veil_type</th>\n",
       "      <td>0</td>\n",
       "      <td>0.00</td>\n",
       "    </tr>\n",
       "    <tr>\n",
       "      <th>veil_color</th>\n",
       "      <td>0</td>\n",
       "      <td>0.00</td>\n",
       "    </tr>\n",
       "    <tr>\n",
       "      <th>ring_number</th>\n",
       "      <td>0</td>\n",
       "      <td>0.00</td>\n",
       "    </tr>\n",
       "    <tr>\n",
       "      <th>ring_type</th>\n",
       "      <td>0</td>\n",
       "      <td>0.00</td>\n",
       "    </tr>\n",
       "    <tr>\n",
       "      <th>spore_print_color</th>\n",
       "      <td>0</td>\n",
       "      <td>0.00</td>\n",
       "    </tr>\n",
       "    <tr>\n",
       "      <th>population</th>\n",
       "      <td>0</td>\n",
       "      <td>0.00</td>\n",
       "    </tr>\n",
       "    <tr>\n",
       "      <th>habitat</th>\n",
       "      <td>0</td>\n",
       "      <td>0.00</td>\n",
       "    </tr>\n",
       "  </tbody>\n",
       "</table>\n",
       "</div>"
      ],
      "text/plain": [
       "                          missing_value      %\n",
       "edible                                0   0.00\n",
       "cap_shape                             0   0.00\n",
       "cap_surface                           0   0.00\n",
       "cap_color                             0   0.00\n",
       "bruises                               0   0.00\n",
       "odor                                  0   0.00\n",
       "gill_attachment                       0   0.00\n",
       "gill_spacing                          0   0.00\n",
       "gill_size                             0   0.00\n",
       "gill_color                            0   0.00\n",
       "stalk_shape                           0   0.00\n",
       "stalk_root                         2480  30.53\n",
       "stalk_surface_above_ring              0   0.00\n",
       "stalk_surface_below_ring              0   0.00\n",
       "stalk_color_above_ring              192   2.36\n",
       "stalk_color_below_ring              192   2.36\n",
       "veil_type                             0   0.00\n",
       "veil_color                            0   0.00\n",
       "ring_number                           0   0.00\n",
       "ring_type                             0   0.00\n",
       "spore_print_color                     0   0.00\n",
       "population                            0   0.00\n",
       "habitat                               0   0.00"
      ]
     },
     "execution_count": 3,
     "metadata": {},
     "output_type": "execute_result"
    },
    {
     "data": {
      "image/png": "[encoded data removed]",
      "text/plain": [
       "<Figure size 1080x576 with 1 Axes>"
      ]
     },
     "metadata": {
      "needs_background": "light"
     },
     "output_type": "display_data"
    }
   ],
   "source": [
    "plot_missing_value(df, return_df=True)"
   ]
  },
  {
   "cell_type": "code",
   "execution_count": 4,
   "id": "2c1f7339",
   "metadata": {},
   "outputs": [],
   "source": [
    "df.drop(columns='stalk_root', inplace=True)"
   ]
  },
  {
   "cell_type": "code",
   "execution_count": 6,
   "id": "64fb1c00",
   "metadata": {},
   "outputs": [
    {
     "data": {
      "text/plain": [
       "True     4208\n",
       "False    3916\n",
       "Name: edible, dtype: int64"
      ]
     },
     "execution_count": 6,
     "metadata": {},
     "output_type": "execute_result"
    }
   ],
   "source": [
    "df.edible.value_counts()"
   ]
  },
  {
   "cell_type": "markdown",
   "id": "ec2ee546",
   "metadata": {},
   "source": [
    "# Association Matrix"
   ]
  },
  {
   "cell_type": "code",
   "execution_count": 7,
   "id": "ca378add",
   "metadata": {},
   "outputs": [],
   "source": [
    "from jcopml.plot import plot_association_matrix"
   ]
  },
  {
   "cell_type": "code",
   "execution_count": 11,
   "id": "16a18403",
   "metadata": {},
   "outputs": [
    {
     "data": {
      "application/vnd.jupyter.widget-view+json": {
       "model_id": "69c988a3059d499d966a96b308f59ed7",
       "version_major": 2,
       "version_minor": 0
      },
      "text/plain": [
       "interactive(children=(ToggleButtons(description='method', options=(\"Cramer's V\", 'Proficiency U(X|Y)', 'Profic…"
      ]
     },
     "metadata": {},
     "output_type": "display_data"
    }
   ],
   "source": [
    "plot_association_matrix(df, 'edible', categoric_col='auto')"
   ]
  },
  {
   "cell_type": "markdown",
   "id": "24bdbab4",
   "metadata": {},
   "source": [
    "Kita bisa lihat bahwa proficinecy bahwa odor sangat menentukan apakah suatu jamur edible atau tidak ***U(X|Y)*** = 0,9 tapi bukan berarti sebaliknya ***U(Y|X)*** = 0,4"
   ]
  },
  {
   "cell_type": "code",
   "execution_count": 10,
   "id": "cd8c7989",
   "metadata": {},
   "outputs": [],
   "source": [
    "df.drop(columns='veil_type', inplace=True)"
   ]
  },
  {
   "cell_type": "markdown",
   "id": "cdaecc0c",
   "metadata": {},
   "source": [
    "# Dataset Splitting"
   ]
  },
  {
   "cell_type": "code",
   "execution_count": 13,
   "id": "c409f78a",
   "metadata": {},
   "outputs": [
    {
     "data": {
      "text/plain": [
       "((6499, 4), (1625, 4), (6499,), (1625,))"
      ]
     },
     "execution_count": 13,
     "metadata": {},
     "output_type": "execute_result"
    }
   ],
   "source": [
    "X = df[['odor','gill_color','ring_type','spore_print_color']]\n",
    "y = df.edible\n",
    "\n",
    "X_train, X_test, y_train, y_test = train_test_split(X, y, test_size=0.2, stratify=y, random_state=42)\n",
    "X_train.shape, X_test.shape, y_train.shape, y_test.shape"
   ]
  },
  {
   "cell_type": "markdown",
   "id": "66089f6e",
   "metadata": {},
   "source": [
    "# Training"
   ]
  },
  {
   "cell_type": "code",
   "execution_count": 15,
   "id": "f8da9403",
   "metadata": {},
   "outputs": [
    {
     "name": "stdout",
     "output_type": "stream",
     "text": [
      "<class 'pandas.core.frame.DataFrame'>\n",
      "Int64Index: 6499 entries, 972 to 731\n",
      "Data columns (total 4 columns):\n",
      " #   Column             Non-Null Count  Dtype \n",
      "---  ------             --------------  ----- \n",
      " 0   odor               6499 non-null   object\n",
      " 1   gill_color         6499 non-null   object\n",
      " 2   ring_type          6499 non-null   object\n",
      " 3   spore_print_color  6499 non-null   object\n",
      "dtypes: object(4)\n",
      "memory usage: 253.9+ KB\n"
     ]
    }
   ],
   "source": [
    "X_train.info()"
   ]
  },
  {
   "cell_type": "code",
   "execution_count": 4,
   "id": "1fa7d2e0",
   "metadata": {},
   "outputs": [],
   "source": [
    "from sklearn.linear_model import LogisticRegression\n",
    "from sklearn.model_selection import GridSearchCV\n",
    "from jcopml.tuning import grid_search_params as gsp"
   ]
  },
  {
   "cell_type": "code",
   "execution_count": 5,
   "id": "010d7044",
   "metadata": {},
   "outputs": [
    {
     "ename": "NameError",
     "evalue": "name 'ColumnTransformer' is not defined",
     "output_type": "error",
     "traceback": [
      "\u001b[1;31m---------------------------------------------------------------------------\u001b[0m",
      "\u001b[1;31mNameError\u001b[0m                                 Traceback (most recent call last)",
      "\u001b[1;32m~\\AppData\\Local\\Temp/ipykernel_12080/3709525841.py\u001b[0m in \u001b[0;36m<module>\u001b[1;34m\u001b[0m\n\u001b[1;32m----> 1\u001b[1;33m preprocessor = ColumnTransformer([\n\u001b[0m\u001b[0;32m      2\u001b[0m     \u001b[1;33m(\u001b[0m\u001b[1;34m'categoric'\u001b[0m\u001b[1;33m,\u001b[0m \u001b[0mcat_pipe\u001b[0m\u001b[1;33m(\u001b[0m\u001b[0mencoder\u001b[0m\u001b[1;33m=\u001b[0m\u001b[1;34m'onehot'\u001b[0m\u001b[1;33m)\u001b[0m\u001b[1;33m,\u001b[0m \u001b[0mX_train\u001b[0m\u001b[1;33m.\u001b[0m\u001b[0mcolumns\u001b[0m\u001b[1;33m)\u001b[0m\u001b[1;33m,\u001b[0m\u001b[1;33m\u001b[0m\u001b[1;33m\u001b[0m\u001b[0m\n\u001b[0;32m      3\u001b[0m ])\n\u001b[0;32m      4\u001b[0m \u001b[1;33m\u001b[0m\u001b[0m\n\u001b[0;32m      5\u001b[0m pipeline = Pipeline([\n",
      "\u001b[1;31mNameError\u001b[0m: name 'ColumnTransformer' is not defined"
     ]
    }
   ],
   "source": [
    "preprocessor = ColumnTransformer([\n",
    "    ('categoric', cat_pipe(encoder='onehot'), X_train.columns),\n",
    "])\n",
    "\n",
    "pipeline = Pipeline([\n",
    "    ('prep', preprocessor),\n",
    "    ('algo', LogisticRegression(solver='lbfgs', n_jobs=-1, random_state=42))\n",
    "])\n",
    "\n",
    "model = GridSearchCV(pipeline, gsp.logreg_params, cv=3, n_jobs=-1, verbose=1)\n",
    "model.fit(X_train, y_train)\n",
    "\n",
    "print(model.best_params_)\n",
    "print(model.score(X_train, y_train), model.best_score_, model.score(X_test, y_test))"
   ]
  },
  {
   "cell_type": "markdown",
   "id": "4c5296ee",
   "metadata": {},
   "source": [
    "# Evaluation"
   ]
  },
  {
   "cell_type": "code",
   "execution_count": 3,
   "id": "57869448",
   "metadata": {},
   "outputs": [],
   "source": [
    "from jcopml.plot import plot_confusion_matrix, plot_classification_report, plot_roc_curve, plot_pr_curve"
   ]
  },
  {
   "cell_type": "code",
   "execution_count": 2,
   "id": "20e1bd21",
   "metadata": {},
   "outputs": [
    {
     "name": "stdout",
     "output_type": "stream",
     "text": [
      "Collecting jcopmlNote: you may need to restart the kernel to use updated packages.\n",
      "  Using cached jcopml-1.2.2.tar.gz (21 kB)\n",
      "Requirement already satisfied: numpy in c:\\users\\lenovo\\anaconda3\\envs\\testenv\\lib\\site-packages (from jcopml) (1.23.4)\n",
      "Requirement already satisfied: scipy in c:\\users\\lenovo\\anaconda3\\envs\\testenv\\lib\\site-packages (from jcopml) (1.9.3)\n",
      "Requirement already satisfied: pandas in c:\\users\\lenovo\\anaconda3\\envs\\testenv\\lib\\site-packages (from jcopml) (1.5.1)\n",
      "Requirement already satisfied: scikit-learn in c:\\users\\lenovo\\anaconda3\\envs\\testenv\\lib\\site-packages (from jcopml) (1.1.3)\n",
      "Requirement already satisfied: matplotlib in c:\\users\\lenovo\\anaconda3\\envs\\testenv\\lib\\site-packages (from jcopml) (3.7.1)\n",
      "Requirement already satisfied: seaborn in c:\\users\\lenovo\\anaconda3\\envs\\testenv\\lib\\site-packages (from jcopml) (0.12.2)\n",
      "Collecting scikit-optimize\n",
      "  Using cached scikit_optimize-0.9.0-py2.py3-none-any.whl (100 kB)\n",
      "Collecting ipywidgets\n",
      "  Downloading ipywidgets-8.0.6-py3-none-any.whl (138 kB)\n",
      "Requirement already satisfied: statsmodels in c:\\users\\lenovo\\anaconda3\\envs\\testenv\\lib\\site-packages (from jcopml) (0.13.5)\n",
      "Requirement already satisfied: ipython>=6.1.0 in c:\\users\\lenovo\\anaconda3\\envs\\testenv\\lib\\site-packages (from ipywidgets->jcopml) (7.29.0)\n",
      "Requirement already satisfied: ipykernel>=4.5.1 in c:\\users\\lenovo\\anaconda3\\envs\\testenv\\lib\\site-packages (from ipywidgets->jcopml) (6.4.1)\n",
      "Requirement already satisfied: traitlets>=4.3.1 in c:\\users\\lenovo\\anaconda3\\envs\\testenv\\lib\\site-packages (from ipywidgets->jcopml) (5.1.1)\n",
      "Collecting jupyterlab-widgets~=3.0.7\n",
      "  Downloading jupyterlab_widgets-3.0.7-py3-none-any.whl (198 kB)\n",
      "Collecting widgetsnbextension~=4.0.7\n",
      "  Downloading widgetsnbextension-4.0.7-py3-none-any.whl (2.1 MB)\n",
      "Requirement already satisfied: matplotlib-inline<0.2.0,>=0.1.0 in c:\\users\\lenovo\\anaconda3\\envs\\testenv\\lib\\site-packages (from ipykernel>=4.5.1->ipywidgets->jcopml) (0.1.2)\n",
      "Requirement already satisfied: ipython-genutils in c:\\users\\lenovo\\anaconda3\\envs\\testenv\\lib\\site-packages (from ipykernel>=4.5.1->ipywidgets->jcopml) (0.2.0)\n",
      "Requirement already satisfied: jupyter-client<8.0 in c:\\users\\lenovo\\anaconda3\\envs\\testenv\\lib\\site-packages (from ipykernel>=4.5.1->ipywidgets->jcopml) (7.1.2)\n",
      "Requirement already satisfied: tornado<7.0,>=4.2 in c:\\users\\lenovo\\anaconda3\\envs\\testenv\\lib\\site-packages (from ipykernel>=4.5.1->ipywidgets->jcopml) (6.1)\n",
      "Requirement already satisfied: debugpy<2.0,>=1.0.0 in c:\\users\\lenovo\\anaconda3\\envs\\testenv\\lib\\site-packages (from ipykernel>=4.5.1->ipywidgets->jcopml) (1.5.1)\n",
      "Requirement already satisfied: prompt-toolkit!=3.0.0,!=3.0.1,<3.1.0,>=2.0.0 in c:\\users\\lenovo\\anaconda3\\envs\\testenv\\lib\\site-packages (from ipython>=6.1.0->ipywidgets->jcopml) (3.0.20)\n",
      "Requirement already satisfied: setuptools>=18.5 in c:\\users\\lenovo\\anaconda3\\envs\\testenv\\lib\\site-packages (from ipython>=6.1.0->ipywidgets->jcopml) (58.0.4)\n",
      "Requirement already satisfied: decorator in c:\\users\\lenovo\\anaconda3\\envs\\testenv\\lib\\site-packages (from ipython>=6.1.0->ipywidgets->jcopml) (5.1.1)\n",
      "Requirement already satisfied: pickleshare in c:\\users\\lenovo\\anaconda3\\envs\\testenv\\lib\\site-packages (from ipython>=6.1.0->ipywidgets->jcopml) (0.7.5)\n",
      "Requirement already satisfied: colorama in c:\\users\\lenovo\\anaconda3\\envs\\testenv\\lib\\site-packages (from ipython>=6.1.0->ipywidgets->jcopml) (0.4.4)\n",
      "\n",
      "Requirement already satisfied: jedi>=0.16 in c:\\users\\lenovo\\anaconda3\\envs\\testenv\\lib\\site-packages (from ipython>=6.1.0->ipywidgets->jcopml) (0.18.1)\n",
      "Requirement already satisfied: pygments in c:\\users\\lenovo\\anaconda3\\envs\\testenv\\lib\\site-packages (from ipython>=6.1.0->ipywidgets->jcopml) (2.11.2)\n",
      "Requirement already satisfied: backcall in c:\\users\\lenovo\\anaconda3\\envs\\testenv\\lib\\site-packages (from ipython>=6.1.0->ipywidgets->jcopml) (0.2.0)\n",
      "Requirement already satisfied: parso<0.9.0,>=0.8.0 in c:\\users\\lenovo\\anaconda3\\envs\\testenv\\lib\\site-packages (from jedi>=0.16->ipython>=6.1.0->ipywidgets->jcopml) (0.8.3)\n",
      "Requirement already satisfied: python-dateutil>=2.1 in c:\\users\\lenovo\\anaconda3\\envs\\testenv\\lib\\site-packages (from jupyter-client<8.0->ipykernel>=4.5.1->ipywidgets->jcopml) (2.8.2)\n",
      "Requirement already satisfied: nest-asyncio>=1.5 in c:\\users\\lenovo\\anaconda3\\envs\\testenv\\lib\\site-packages (from jupyter-client<8.0->ipykernel>=4.5.1->ipywidgets->jcopml) (1.5.1)\n",
      "Requirement already satisfied: pyzmq>=13 in c:\\users\\lenovo\\anaconda3\\envs\\testenv\\lib\\site-packages (from jupyter-client<8.0->ipykernel>=4.5.1->ipywidgets->jcopml) (22.3.0)\n",
      "Requirement already satisfied: entrypoints in c:\\users\\lenovo\\anaconda3\\envs\\testenv\\lib\\site-packages (from jupyter-client<8.0->ipykernel>=4.5.1->ipywidgets->jcopml) (0.3)\n",
      "Requirement already satisfied: jupyter-core>=4.6.0 in c:\\users\\lenovo\\anaconda3\\envs\\testenv\\lib\\site-packages (from jupyter-client<8.0->ipykernel>=4.5.1->ipywidgets->jcopml) (4.9.1)\n",
      "Requirement already satisfied: pywin32>=1.0 in c:\\users\\lenovo\\anaconda3\\envs\\testenv\\lib\\site-packages (from jupyter-core>=4.6.0->jupyter-client<8.0->ipykernel>=4.5.1->ipywidgets->jcopml) (302)\n",
      "Requirement already satisfied: wcwidth in c:\\users\\lenovo\\anaconda3\\envs\\testenv\\lib\\site-packages (from prompt-toolkit!=3.0.0,!=3.0.1,<3.1.0,>=2.0.0->ipython>=6.1.0->ipywidgets->jcopml) (0.2.5)\n",
      "Requirement already satisfied: six>=1.5 in c:\\users\\lenovo\\anaconda3\\envs\\testenv\\lib\\site-packages (from python-dateutil>=2.1->jupyter-client<8.0->ipykernel>=4.5.1->ipywidgets->jcopml) (1.16.0)\n",
      "Requirement already satisfied: packaging>=20.0 in c:\\users\\lenovo\\anaconda3\\envs\\testenv\\lib\\site-packages (from matplotlib->jcopml) (21.3)\n",
      "Requirement already satisfied: pyparsing>=2.3.1 in c:\\users\\lenovo\\anaconda3\\envs\\testenv\\lib\\site-packages (from matplotlib->jcopml) (3.0.4)\n",
      "Requirement already satisfied: contourpy>=1.0.1 in c:\\users\\lenovo\\anaconda3\\envs\\testenv\\lib\\site-packages (from matplotlib->jcopml) (1.0.7)\n",
      "Requirement already satisfied: kiwisolver>=1.0.1 in c:\\users\\lenovo\\anaconda3\\envs\\testenv\\lib\\site-packages (from matplotlib->jcopml) (1.4.4)\n",
      "Requirement already satisfied: pillow>=6.2.0 in c:\\users\\lenovo\\anaconda3\\envs\\testenv\\lib\\site-packages (from matplotlib->jcopml) (9.5.0)\n",
      "Requirement already satisfied: fonttools>=4.22.0 in c:\\users\\lenovo\\anaconda3\\envs\\testenv\\lib\\site-packages (from matplotlib->jcopml) (4.39.3)\n",
      "Requirement already satisfied: cycler>=0.10 in c:\\users\\lenovo\\anaconda3\\envs\\testenv\\lib\\site-packages (from matplotlib->jcopml) (0.11.0)\n",
      "Requirement already satisfied: pytz>=2020.1 in c:\\users\\lenovo\\anaconda3\\envs\\testenv\\lib\\site-packages (from pandas->jcopml) (2022.6)\n",
      "Requirement already satisfied: threadpoolctl>=2.0.0 in c:\\users\\lenovo\\anaconda3\\envs\\testenv\\lib\\site-packages (from scikit-learn->jcopml) (3.1.0)\n",
      "Requirement already satisfied: joblib>=1.0.0 in c:\\users\\lenovo\\anaconda3\\envs\\testenv\\lib\\site-packages (from scikit-learn->jcopml) (1.2.0)\n",
      "Collecting pyaml>=16.9\n",
      "  Using cached pyaml-21.10.1-py2.py3-none-any.whl (24 kB)\n",
      "Collecting PyYAML\n",
      "  Downloading PyYAML-6.0-cp310-cp310-win_amd64.whl (151 kB)\n",
      "Requirement already satisfied: patsy>=0.5.2 in c:\\users\\lenovo\\anaconda3\\envs\\testenv\\lib\\site-packages (from statsmodels->jcopml) (0.5.3)\n",
      "Building wheels for collected packages: jcopml\n",
      "  Building wheel for jcopml (setup.py): started\n",
      "  Building wheel for jcopml (setup.py): finished with status 'done'\n",
      "  Created wheel for jcopml: filename=jcopml-1.2.2-py2.py3-none-any.whl size=32196 sha256=57861fd80847900778c60380ce92d04c8b98493b9630f1436b0abd562f99f1ec\n",
      "  Stored in directory: c:\\users\\lenovo\\appdata\\local\\pip\\cache\\wheels\\5e\\06\\58\\749e5f1baf2932285758798a92793d4347888826160b025808\n",
      "Successfully built jcopml\n",
      "Installing collected packages: PyYAML, widgetsnbextension, pyaml, jupyterlab-widgets, scikit-optimize, ipywidgets, jcopml\n",
      "Successfully installed PyYAML-6.0 ipywidgets-8.0.6 jcopml-1.2.2 jupyterlab-widgets-3.0.7 pyaml-21.10.1 scikit-optimize-0.9.0 widgetsnbextension-4.0.7\n"
     ]
    }
   ],
   "source": [
    "pip install jcopml"
   ]
  },
  {
   "cell_type": "code",
   "execution_count": 19,
   "id": "91cc2ee8",
   "metadata": {},
   "outputs": [
    {
     "data": {
      "image/png": "[encoded data removed]",
      "text/plain": [
       "<Figure size 792x360 with 2 Axes>"
      ]
     },
     "metadata": {
      "needs_background": "light"
     },
     "output_type": "display_data"
    }
   ],
   "source": [
    "plot_confusion_matrix(X_train, y_train, X_test, y_test, model)"
   ]
  },
  {
   "cell_type": "code",
   "execution_count": 20,
   "id": "a315e182",
   "metadata": {},
   "outputs": [
    {
     "name": "stdout",
     "output_type": "stream",
     "text": [
      "Train report\n",
      "              precision    recall  f1-score   support\n",
      "\n",
      "       False       1.00      0.99      0.99      3133\n",
      "        True       0.99      1.00      0.99      3366\n",
      "\n",
      "    accuracy                           0.99      6499\n",
      "   macro avg       0.99      0.99      0.99      6499\n",
      "weighted avg       0.99      0.99      0.99      6499\n",
      "\n",
      "\n",
      "Test report\n",
      "              precision    recall  f1-score   support\n",
      "\n",
      "       False       1.00      0.99      1.00       783\n",
      "        True       1.00      1.00      1.00       842\n",
      "\n",
      "    accuracy                           1.00      1625\n",
      "   macro avg       1.00      1.00      1.00      1625\n",
      "weighted avg       1.00      1.00      1.00      1625\n",
      "\n"
     ]
    }
   ],
   "source": [
    "plot_classification_report(X_train, y_train, X_test, y_test, model, report=True)"
   ]
  },
  {
   "cell_type": "code",
   "execution_count": 22,
   "id": "0b1f1ec2",
   "metadata": {},
   "outputs": [
    {
     "data": {
      "image/png": "[encoded data removed]",
      "text/plain": [
       "<Figure size 936x432 with 2 Axes>"
      ]
     },
     "metadata": {
      "needs_background": "light"
     },
     "output_type": "display_data"
    }
   ],
   "source": [
    "plot_roc_curve(X_train, y_train, X_test, y_test, model)"
   ]
  },
  {
   "cell_type": "code",
   "execution_count": 23,
   "id": "68e5a157",
   "metadata": {},
   "outputs": [
    {
     "data": {
      "image/png": "[encoded data removed]",
      "text/plain": [
       "<Figure size 936x432 with 2 Axes>"
      ]
     },
     "metadata": {
      "needs_background": "light"
     },
     "output_type": "display_data"
    }
   ],
   "source": [
    "plot_pr_curve(X_train, y_train, X_test, y_test, model)"
   ]
  },
  {
   "cell_type": "markdown",
   "id": "ae489ac8",
   "metadata": {},
   "source": [
    "# Future Importance"
   ]
  },
  {
   "cell_type": "code",
   "execution_count": 24,
   "id": "8225268e",
   "metadata": {},
   "outputs": [
    {
     "data": {
      "image/png": "[encoded data removed]",
      "text/plain": [
       "<Figure size 1080x360 with 1 Axes>"
      ]
     },
     "metadata": {
      "needs_background": "light"
     },
     "output_type": "display_data"
    }
   ],
   "source": [
    "df_imp = mean_score_decrease(X_train, y_train, model, plot=True, topk=10)"
   ]
  },
  {
   "cell_type": "markdown",
   "id": "cf255fc3",
   "metadata": {},
   "source": [
    "### Insight Melalui Data"
   ]
  },
  {
   "cell_type": "code",
   "execution_count": 28,
   "id": "0ced886d",
   "metadata": {},
   "outputs": [
    {
     "name": "stderr",
     "output_type": "stream",
     "text": [
      "C:\\Users\\lenovo\\AppData\\Local\\Programs\\Python\\Python310\\lib\\site-packages\\seaborn\\_decorators.py:36: FutureWarning: Pass the following variable as a keyword arg: x. From version 0.12, the only valid positional argument will be `data`, and passing other arguments without an explicit keyword will result in an error or misinterpretation.\n",
      "  warnings.warn(\n",
      "C:\\Users\\lenovo\\AppData\\Local\\Programs\\Python\\Python310\\lib\\site-packages\\seaborn\\_decorators.py:36: FutureWarning: Pass the following variable as a keyword arg: x. From version 0.12, the only valid positional argument will be `data`, and passing other arguments without an explicit keyword will result in an error or misinterpretation.\n",
      "  warnings.warn(\n",
      "C:\\Users\\lenovo\\AppData\\Local\\Programs\\Python\\Python310\\lib\\site-packages\\seaborn\\_decorators.py:36: FutureWarning: Pass the following variable as a keyword arg: x. From version 0.12, the only valid positional argument will be `data`, and passing other arguments without an explicit keyword will result in an error or misinterpretation.\n",
      "  warnings.warn(\n",
      "C:\\Users\\lenovo\\AppData\\Local\\Programs\\Python\\Python310\\lib\\site-packages\\seaborn\\_decorators.py:36: FutureWarning: Pass the following variable as a keyword arg: x. From version 0.12, the only valid positional argument will be `data`, and passing other arguments without an explicit keyword will result in an error or misinterpretation.\n",
      "  warnings.warn(\n"
     ]
    },
    {
     "data": {
      "text/plain": [
       "<AxesSubplot:xlabel='ring_type', ylabel='count'>"
      ]
     },
     "execution_count": 28,
     "metadata": {},
     "output_type": "execute_result"
    },
    {
     "data": {
      "image/png": "[encoded data removed]",
      "text/plain": [
       "<Figure size 1080x720 with 4 Axes>"
      ]
     },
     "metadata": {
      "needs_background": "light"
     },
     "output_type": "display_data"
    }
   ],
   "source": [
    "import matplotlib.pyplot as plt\n",
    "import seaborn as sns\n",
    "\n",
    "plt.figure(figsize=(15,10))\n",
    "plt.subplot(221)\n",
    "sns.countplot('odor', data=df, hue='edible')\n",
    "plt.subplot(222)\n",
    "sns.countplot('spore_print_color', data=df, hue='edible')\n",
    "plt.subplot(223)\n",
    "sns.countplot('gill_color', data=df, hue='edible')\n",
    "plt.subplot(224)\n",
    "sns.countplot('ring_type', data=df, hue='edible')"
   ]
  },
  {
   "cell_type": "markdown",
   "id": "b2472b73",
   "metadata": {},
   "source": [
    "# Correlation Ratio"
   ]
  },
  {
   "cell_type": "code",
   "execution_count": 29,
   "id": "11b079ed",
   "metadata": {},
   "outputs": [],
   "source": [
    "from jcopml.plot import plot_correlation_ratio"
   ]
  },
  {
   "cell_type": "code",
   "execution_count": 30,
   "id": "28cade8b",
   "metadata": {},
   "outputs": [
    {
     "data": {
      "image/png": "[encoded data removed]",
      "text/plain": [
       "<Figure size 432x288 with 1 Axes>"
      ]
     },
     "metadata": {
      "needs_background": "light"
     },
     "output_type": "display_data"
    }
   ],
   "source": [
    "df_corrat = plot_correlation_ratio(df, ['edible','cap_shape','odor'], ['ring_number'], report=True)"
   ]
  }
 ],
 "metadata": {
  "kernelspec": {
   "display_name": "Python 3 (ipykernel)",
   "language": "python",
   "name": "python3"
  },
  "language_info": {
   "codemirror_mode": {
    "name": "ipython",
    "version": 3
   },
   "file_extension": ".py",
   "mimetype": "text/x-python",
   "name": "python",
   "nbconvert_exporter": "python",
   "pygments_lexer": "ipython3",
   "version": "3.10.0"
  },
  "varInspector": {
   "cols": {
    "lenName": 16,
    "lenType": 16,
    "lenVar": 40
   },
   "kernels_config": {
    "python": {
     "delete_cmd_postfix": "",
     "delete_cmd_prefix": "del ",
     "library": "var_list.py",
     "varRefreshCmd": "print(var_dic_list())"
    },
    "r": {
     "delete_cmd_postfix": ") ",
     "delete_cmd_prefix": "rm(",
     "library": "var_list.r",
     "varRefreshCmd": "cat(var_dic_list()) "
    }
   },
   "types_to_exclude": [
    "module",
    "function",
    "builtin_function_or_method",
    "instance",
    "_Feature"
   ],
   "window_display": false
  }
 },
 "nbformat": 4,
 "nbformat_minor": 5
}
